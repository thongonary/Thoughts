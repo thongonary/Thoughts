{
 "cells": [
  {
   "cell_type": "code",
   "execution_count": 1,
   "metadata": {},
   "outputs": [],
   "source": [
    "import numpy as np\n",
    "import scipy as sp\n",
    "import matplotlib.pyplot as plt\n",
    "import matplotlib\n",
    "matplotlib.rcParams.update({'font.size': 18})"
   ]
  },
  {
   "cell_type": "markdown",
   "metadata": {},
   "source": [
    "Reference: \"Asymptotic formulae for likelihood-based tests of new physics\" https://arxiv.org/abs/1007.1727\n",
    "\n",
    "### Making a toy dataset"
   ]
  },
  {
   "cell_type": "code",
   "execution_count": 26,
   "metadata": {},
   "outputs": [
    {
     "data": {
      "image/png": "[encoded data removed]",
      "text/plain": [
       "<Figure size 576x432 with 1 Axes>"
      ]
     },
     "metadata": {
      "needs_background": "light"
     },
     "output_type": "display_data"
    }
   ],
   "source": [
    "# Assuming this is Monte Carlo\n",
    "plt.figure(figsize=(8,6))\n",
    "background = np.random.exponential(100, round(1e5))\n",
    "signal = np.random.normal(350,10, round(1e3))\n",
    "bkg_count, _, _ = plt.hist(background, bins=30, range=(0, 600), histtype='step', linewidth=3, label='Background MC')\n",
    "sig_count, _, _ = plt.hist(signal, bins=30, range=(0,600), histtype='stepfilled', alpha=0.3, label='Signal MC')\n",
    "\n",
    "bin_center = np.arange(15,600,600/30)\n",
    "\n",
    "# Assuming this is data\n",
    "background_with_noise = np.random.normal(0, np.sqrt(bkg_count)) + bkg_count\n",
    "signal_with_noise = np.random.normal(0, np.sqrt(sig_count)) + sig_count\n",
    "obs_data = background_with_noise + signal_with_noise\n",
    "plt.scatter(bin_center, obs_data, color='black', label='Observed data')\n",
    "\n",
    "# Assuming the control region is 10% data without signal presence\n",
    "control_region = 0.1 * background_with_noise + np.random.normal(0, np.sqrt(0.05*background_with_noise)) # with some additional noise\n",
    "plt.scatter(bin_center, control_region, color='red', label='Control-region data')\n",
    "\n",
    "plt.yscale('log')\n",
    "plt.legend(loc='best')\n",
    "plt.show()\n"
   ]
  },
  {
   "cell_type": "markdown",
   "metadata": {},
   "source": [
    "### Test statistics $q_0$ for discovery of a positive signal\n"
   ]
  },
  {
   "cell_type": "markdown",
   "metadata": {},
   "source": [
    "\n",
    "To discover new signal, we need to reject $\\mu$ = 0 hypothesis. We have\n",
    "\n",
    "$q_0 = \n",
    "-2\\ln \\lambda(0)$ for $\\hat{\\mu} \\geq 0$ and zero for $\\hat{\\mu} < 0$, \n",
    "\n",
    "where $\\lambda(0)$ is the profile likelihood ratio for $\\mu$ = 0: \n",
    "\n",
    "$\\lambda(\\mu) = \\frac{L(\\mu,\\hat{\\hat{\\theta}})}{L(\\hat{\\mu}, \\hat{\\theta})}$\n",
    "\n",
    "In this case the $p$-value is computed as\n",
    "\n",
    "$p_0 = \\int_{q_{0,\\textrm{obs}}}^{\\infty} f(q_0 | 0) dq_0$\n",
    "\n",
    "In a counting experiment, where one observes a number of events $n$, assumed to follow a Poisson distribution with an expectation value $E[n] = \\mu s + b$, where $b$ is a nuissance parameter constrained by a control measurement, with expectation value $E[m] = \\tau b$, where $b$ is the counting from the control region and $\\tau$ is the transfer factor to the signal region. Thus the data consist of two measured values: $n$ from signal region and $m$ from control region. The parameter of interest is $\\mu$ and one nuissance parameter is $b$. The likelihood function for $\\mu$ and $b$ is the product of two Poisson terms:\n",
    "\n",
    "$ L(\\mu, b) = \\frac{(\\mu s + b)^n}{n!}e^{-(\\mu s + b)} \\frac{(\\tau b)^m}{m!} e^{-\\tau b}\n",
    "$\n",
    "\n",
    "In our case, since we measure $b$ from 10% of the signal region, we take $\\tau$ = 0.1 (or 1/9... depending on how observed data is obtained)\n",
    "\n",
    "Maximum likelihood estimator returns:\n",
    "\n",
    "$\\hat{\\mu} = \\frac{n - m/\\tau}{s} $\n",
    "\n",
    "$\\hat{b} = \\frac{m}{\\tau} $\n",
    "\n",
    "$\\hat{\\hat{b}} = \\frac{n+m-(1+\\tau)\\mu s}{2(1+\\tau)} + \\left[ \\frac{(n+m - (1+\\tau) \\mu s)^2 + 4(1+\\tau) m \\mu s}{4(1+\\tau)^2} \\right]^{1/2}$\n"
   ]
  },
  {
   "cell_type": "markdown",
   "metadata": {},
   "source": [
    "Now the test statistics becomes\n",
    "- If $\\hat{\\mu} = \\frac{n-m}{s} \\geq 0$:  $q_0 = -2 \\ln \\lambda(0) = \\frac{L(0, \\hat{\\hat{\\theta}})}{L(\\hat{\\mu}, \\hat{\\theta})}$\n",
    "- If $\\hat{\\mu} = \\frac{n-m}{s} < 0$:  $q_0 = 0$\n",
    "\n",
    "Let's start first with the counting experiment (because doing the fit for shape analysis takes more effort and often fails...)"
   ]
  },
  {
   "cell_type": "code",
   "execution_count": null,
   "metadata": {},
   "outputs": [],
   "source": [
    "# Defining necessary variables\n",
    "\n",
    "def get_nll(mu, b, s, tau, N, M):\n",
    "    \"\"\"\n",
    "    mu, b: array of bins. b is the expected background\n",
    "    N: observed data\n",
    "    M: observed background\n",
    "    tau: scale factor for background\n",
    "    s = 0 for null hypothesis, 1 for alternative hypothesis\n",
    "    \n",
    "    Return: -ln(L(N, M | mu,b,s))\n",
    "    \"\"\"\n",
    "    average_signal = mu * s + b\n",
    "    probs = sp.stats.poisson.pmf(average_signal.astype(np.int), N) * sp.stats.poisson.pmf(tau*b, M)\n",
    "    probs = np.where(probs < 1e-10, np.full_like(probs, 1e-10), probs)\n",
    "    NLL = np.sum(-np.log(probs), axis=-1)\n",
    "    return NLL\n",
    "\n",
    "def get_mu_hat(N, M, tau, s):\n",
    "    return (N-M/tau)/s\n",
    "\n",
    "def get_b_hat(M, tau):\n",
    "    return M/tau\n",
    "\n",
    "def get_b_doublehat(mu, b, s, N, M):\n",
    "    return (N+M-(1+tau)*mu*s)/2(1+tau) + np.sqrt(((N+M-(1+tau)*M*s)**2 + 4(1+tau)*M*mu*s)/(4(1+tau)**2))\n",
    "\n",
    "def Asimov_dataset(obs_data, control_region, bkg_count, sig_count, N_asymov=1e3):\n",
    "    obs_asymov = np.random.poisson(obs_data, (N_asymov, obs_data.shape[0])) \n",
    "    ctrl_asymov = np.random.poisson(control_region, (N_asymov, control_region.shape[0]))\n",
    "    tau = 0.1\n",
    "    mu_hat = get_mu_hat(N=obs_asymov, M=ctrl_asymov, tau=tau, s=sig_count)\n",
    "    b_hat = get_b_hat(M=ctrl_asymov, tau=tau)\n",
    "    b_doublehat = get_b_doublehat(mu=0, b=bkg_count, s=sig_count, N=obs_asymov, M=ctrl_asymov)\n",
    "    denominator = get_nll(mu=mu_hat, b=b_hat, s=sig_count, tau=tau, N=obs_asymov, M=ctrl_asymov)\n",
    "    numerator = get_nll(mu=0, b=b_doublehat, s=sig_count, tau=tau, N=obs_asymov, M=ctrl_asymov)\n",
    "    q_0 = np.where(mu_hat>0, numerator - denominator, 0) # because this is log\n",
    "    return q_0\n",
    "    "
   ]
  },
  {
   "cell_type": "code",
   "execution_count": null,
   "metadata": {},
   "outputs": [],
   "source": []
  }
 ],
 "metadata": {
  "kernelspec": {
   "display_name": "Python 3",
   "language": "python",
   "name": "python3"
  },
  "language_info": {
   "codemirror_mode": {
    "name": "ipython",
    "version": 3
   },
   "file_extension": ".py",
   "mimetype": "text/x-python",
   "name": "python",
   "nbconvert_exporter": "python",
   "pygments_lexer": "ipython3",
   "version": "3.6.8"
  }
 },
 "nbformat": 4,
 "nbformat_minor": 4
}
