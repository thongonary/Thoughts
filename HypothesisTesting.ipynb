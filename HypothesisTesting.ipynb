{
 "cells": [
  {
   "cell_type": "code",
   "execution_count": 1,
   "metadata": {},
   "outputs": [],
   "source": [
    "import numpy as np\n",
    "import scipy as sp\n",
    "from scipy import stats\n",
    "import matplotlib.pyplot as plt\n",
    "import matplotlib\n",
    "matplotlib.rcParams.update({'font.size': 15})"
   ]
  },
  {
   "cell_type": "markdown",
   "metadata": {},
   "source": [
    "Reference: \"Asymptotic formulae for likelihood-based tests of new physics\" https://arxiv.org/abs/1007.1727\n",
    "\n",
    "### Making a toy dataset"
   ]
  },
  {
   "cell_type": "code",
   "execution_count": 18,
   "metadata": {},
   "outputs": [
    {
     "data": {
      "image/png": "[encoded data removed]",
      "text/plain": [
       "<Figure size 720x576 with 1 Axes>"
      ]
     },
     "metadata": {
      "needs_background": "light"
     },
     "output_type": "display_data"
    }
   ],
   "source": [
    "n_bins = 30\n",
    "max_bin = 600\n",
    "min_bin = 0\n",
    "\n",
    "# Assuming this is Monte Carlo\n",
    "plt.figure(figsize=(10,8))\n",
    "background = np.random.exponential(100, round(1e5))\n",
    "signal = np.random.normal(350,10, round(2e2))\n",
    "bkg_count, _, _ = plt.hist(background, bins=n_bins, range=(min_bin, max_bin), histtype='step', linewidth=3, label='Full background MC')\n",
    "sig_count, _, _ = plt.hist(signal, bins=n_bins, range=(min_bin, max_bin), histtype='stepfilled', alpha=0.3, label='Signal MC')\n",
    "\n",
    "bin_center = np.arange(n_bins/2, max_bin, (max_bin-min_bin)/n_bins)\n",
    "\n",
    "# Assuming this is data\n",
    "background_with_noise = bkg_count + np.random.normal(0, np.sqrt(bkg_count)) \n",
    "signal_with_noise = sig_count + np.random.normal(0, np.sqrt(sig_count)) \n",
    "obs_data = background_with_noise + signal_with_noise\n",
    "plt.scatter(bin_center, obs_data, color='black', label='Observed data')\n",
    "\n",
    "# Assuming the control region is 10% data without signal presence\n",
    "control_MC = 0.1 * bkg_count\n",
    "control_region = 0.1 * background_with_noise + np.random.normal(0, np.sqrt(0.01*background_with_noise)) # data with some additional noise\n",
    "plt.scatter(bin_center, control_MC, color='green', label='Control-region MC')\n",
    "plt.scatter(bin_center, control_region, color='red', label='Control-region data')\n",
    "\n",
    "plt.yscale('log')\n",
    "plt.legend(loc='best')\n",
    "plt.show()\n"
   ]
  },
  {
   "cell_type": "markdown",
   "metadata": {},
   "source": [
    "### Test statistics $q_0$ for discovery of a positive signal\n"
   ]
  },
  {
   "cell_type": "markdown",
   "metadata": {},
   "source": [
    "\n",
    "To discover new signal, we need to reject $\\mu$ = 0 hypothesis. We have\n",
    "\n",
    "$q_0 = \n",
    "-2\\ln \\lambda(0)$ for $\\hat{\\mu} \\geq 0$ and zero for $\\hat{\\mu} < 0$, \n",
    "\n",
    "where $\\lambda(0)$ is the profile likelihood ratio for $\\mu$ = 0: \n",
    "\n",
    "$\\lambda(\\mu) = \\frac{L(\\mu,\\hat{\\hat{\\theta}})}{L(\\hat{\\mu}, \\hat{\\theta})}$\n",
    "\n",
    "In this case the $p$-value is computed as\n",
    "\n",
    "$p_0 = \\int_{q_{0,\\textrm{obs}}}^{\\infty} f(q_0 | 0) dq_0$\n",
    "\n",
    "In a counting experiment, where one observes a number of events $n$, assumed to follow a Poisson distribution with an expectation value $E[n] = \\mu s + b$, where $b$ is a nuissance parameter constrained by a control measurement, with expectation value $E[m] = \\tau b$. \n",
    "\n",
    "$b$ is the expected MC in the signal region and $\\tau$ is the transfer factor from the control to the signal region. Thus the data consist of two measured values: $n$ from signal region and $m$ from control region. The parameter of interest is $\\mu$ and one nuissance parameter is $b$. The likelihood function for $\\mu$ and $b$ is the product of two Poisson terms:\n",
    "\n",
    "$ L(\\mu, b) = \\frac{(\\mu s + b)^n}{n!}e^{-(\\mu s + b)} \\frac{(\\tau b)^m}{m!} e^{-\\tau b}\n",
    "$\n",
    "\n",
    "In our case, since we measure $b$ from 10% of the signal region, we take $\\tau$ = 0.1 (or 1/9... depending on how observed data is obtained)\n",
    "\n",
    "Maximum likelihood estimator returns:\n",
    "\n",
    "$\\hat{\\mu} = \\frac{n - m/\\tau}{s} $\n",
    "\n",
    "$\\hat{b} = \\frac{m}{\\tau} $\n",
    "\n",
    "$\\hat{\\hat{b}} = \\frac{n+m-(1+\\tau)\\mu s}{2(1+\\tau)} + \\left[ \\frac{(n+m - (1+\\tau) \\mu s)^2 + 4(1+\\tau) m \\mu s}{4(1+\\tau)^2} \\right]^{1/2}$\n"
   ]
  },
  {
   "cell_type": "markdown",
   "metadata": {},
   "source": [
    "Now the test statistics becomes\n",
    "- If $\\hat{\\mu} = \\frac{n-m}{s} \\geq 0$:  $q_0 = -2 \\ln \\lambda(0) = \\frac{L(0, \\hat{\\hat{\\theta}})}{L(\\hat{\\mu}, \\hat{\\theta})}$\n",
    "- If $\\hat{\\mu} = \\frac{n-m}{s} < 0$:  $q_0 = 0$\n",
    "\n",
    "Let's start first with the counting experiment (because doing the fit for shape analysis takes more effort and often fails...)\n",
    "\n",
    "Note that to do counting experiment we need the expected signal count to be non-zero."
   ]
  },
  {
   "cell_type": "code",
   "execution_count": 19,
   "metadata": {},
   "outputs": [],
   "source": [
    "# Defining necessary variables\n",
    "eps = 1e-10\n",
    "\n",
    "def get_likelihood(mu, b, s, tau, N, M):\n",
    "    \"\"\"\n",
    "    mu, b: array of bins. b is the expected background\n",
    "    N: observed data\n",
    "    M: observed background\n",
    "    tau: scale factor for background\n",
    "    s = 0 for null hypothesis, 1 for alternative hypothesis\n",
    "    \n",
    "    Return: L(N, M | mu,b,s,tau)\n",
    "    \"\"\"\n",
    "    average_signal = mu * s + b\n",
    "    A = stats.poisson.pmf(average_signal.astype(np.int), N) \n",
    "    B = stats.poisson.pmf((tau*b).astype(np.int), M)\n",
    "    likelihood = A * B\n",
    "    likelihood = np.where(likelihood < 1e-15, np.full_like(likelihood, 1e-15), likelihood)\n",
    "    \n",
    "    return likelihood\n",
    "\n",
    "def get_mu_hat(N, M, tau, s):\n",
    "    return (N-M/tau)/(s+eps) \n",
    "\n",
    "def get_b_hat(M, tau):\n",
    "    return M/tau\n",
    "\n",
    "def get_b_doublehat(mu, b, s, tau, N, M):\n",
    "    A = (N+M-(1+tau)*mu*s)/(2*(1+tau))\n",
    "    B = np.sqrt(((N+M-(1+tau)*mu*s)**2 + 4*(1+tau)*M*mu*s)/(4*((1+tau)**2)))\n",
    "    return A+B\n",
    "\n",
    "def discovery_hypothesis_testing(bkg_count, sig_count, tau, M_obs, N_obs, N_asymov=round(1e5), show_plot=False):\n",
    "    \"\"\"\n",
    "    bkg_count: Expected background from MC in control region, ie, 10% of data\n",
    "    sig_count: Expected signal from MC\n",
    "    M_obs: observed data from the control region\n",
    "    N_obs: observed data from the signal region\n",
    "    \"\"\"\n",
    "    # Get observed test statistics q_obs\n",
    "    mu_hat = get_mu_hat(N=N_obs, M=M_obs, tau=tau, s=sig_count)\n",
    "    b_hat = get_b_hat(M=M_obs, tau=tau)\n",
    "    b_doublehat = get_b_doublehat(mu=0, b=bkg_count, s=sig_count, tau=tau, N=N_obs, M=M_obs)\n",
    "\n",
    "    denominator = get_likelihood(mu=mu_hat, b=b_hat, s=sig_count, tau=tau, N=N_obs, M=M_obs)\n",
    "    numerator = get_likelihood(mu=0, b=b_doublehat, s=sig_count, tau=tau, N=N_obs, M=M_obs)\n",
    "    q_obs = -2*np.log(numerator/denominator)\n",
    "\n",
    "    q_obs = np.where(mu_hat >= 0, q_obs, 0)\n",
    "    q_obs = np.sum(q_obs, axis=-1)\n",
    "    \n",
    "    # Compute the Asimov dataset\n",
    "    expected_data = bkg_count/tau \n",
    "    \n",
    "    # Sample from expected MC\n",
    "    obs_asymov = np.random.poisson(expected_data, (N_asymov, expected_data.shape[0])) \n",
    "    ctrl_asymov = np.random.poisson(bkg_count, (N_asymov, bkg_count.shape[0]))\n",
    "    \n",
    "    # Compute the necessary variables\n",
    "    mu_hat = get_mu_hat(N=obs_asymov, M=ctrl_asymov, tau=tau, s=sig_count)\n",
    "    b_hat = get_b_hat(M=ctrl_asymov, tau=tau)\n",
    "    b_doublehat = get_b_doublehat(mu=0, b=bkg_count, s=sig_count, tau=tau, N=obs_asymov, M=ctrl_asymov)\n",
    "\n",
    "    denominator = get_likelihood(mu=mu_hat, b=b_hat, s=sig_count, tau=tau, N=obs_asymov, M=ctrl_asymov)\n",
    "    numerator = get_likelihood(mu=0, b=b_doublehat, s=sig_count, tau=tau, N=obs_asymov, M=ctrl_asymov)\n",
    "    q_0 = -2*np.log(numerator/denominator)\n",
    "    # Only take q_0 where mu_hat >= 0\n",
    "    q_0 = np.where(mu_hat >= 0, q_0, 0)\n",
    "    q_0 = np.sum(q_0, axis=-1)\n",
    "    \n",
    "    N_worse = np.sum(q_0 > q_obs)\n",
    "    \n",
    "    if show_plot:\n",
    "        plt.figure(figsize=(10,8))\n",
    "        binContent, _, _ = plt.hist(q_0, label='f($q_0$|0)', bins=40)\n",
    "        plt.plot([q_obs, q_obs], [0,np.max(binContent)], label='Observed')\n",
    "        plt.legend(loc='best')\n",
    "        plt.xlabel('Test statistic')\n",
    "        plt.yscale('log')\n",
    "        plt.ylabel('Entries')\n",
    "    \n",
    "    pval = max(1., N_worse)/float(N_asymov)\n",
    "    print(\"Observed test statistics: {}\".format(q_obs))\n",
    "    print(\"p-value: {}\".format(pval))\n",
    "    return pval\n"
   ]
  },
  {
   "cell_type": "code",
   "execution_count": 20,
   "metadata": {},
   "outputs": [
    {
     "name": "stdout",
     "output_type": "stream",
     "text": [
      "Observed test statistics: -3.4907151153291327\n",
      "p-value: 6.8e-05\n"
     ]
    },
    {
     "data": {
      "image/png": "[encoded data removed]",
      "text/plain": [
       "<Figure size 720x576 with 1 Axes>"
      ]
     },
     "metadata": {
      "needs_background": "light"
     },
     "output_type": "display_data"
    }
   ],
   "source": [
    "pval = discovery_hypothesis_testing(bkg_count=control_MC, sig_count=sig_count, \n",
    "                                    tau=0.1, M_obs=control_region, N_obs=obs_data, N_asymov=round(1e6), show_plot=True)"
   ]
  },
  {
   "cell_type": "markdown",
   "metadata": {},
   "source": [
    "Obviously this counting experiment method only work when the expected signal in each bin is non-zero. In this toy example I put an artificial epsilon = 1e-10 for the expected signal in bins where it equals to zero. \n",
    "\n",
    "To do it correctly and make Maurizio happy, we need to do the fit for the shape analysis. To be updated..."
   ]
  },
  {
   "cell_type": "code",
   "execution_count": null,
   "metadata": {},
   "outputs": [],
   "source": []
  }
 ],
 "metadata": {
  "kernelspec": {
   "display_name": "Python 3",
   "language": "python",
   "name": "python3"
  },
  "language_info": {
   "codemirror_mode": {
    "name": "ipython",
    "version": 3
   },
   "file_extension": ".py",
   "mimetype": "text/x-python",
   "name": "python",
   "nbconvert_exporter": "python",
   "pygments_lexer": "ipython3",
   "version": "3.6.8"
  }
 },
 "nbformat": 4,
 "nbformat_minor": 4
}
